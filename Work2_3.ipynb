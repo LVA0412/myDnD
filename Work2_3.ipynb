{
  "nbformat": 4,
  "nbformat_minor": 0,
  "metadata": {
    "colab": {
      "provenance": [],
      "authorship_tag": "ABX9TyP7Se/vEStE+JPAMdtJkmcV",
      "include_colab_link": true
    },
    "kernelspec": {
      "name": "python3",
      "display_name": "Python 3"
    },
    "language_info": {
      "name": "python"
    }
  },
  "cells": [
    {
      "cell_type": "markdown",
      "metadata": {
        "id": "view-in-github",
        "colab_type": "text"
      },
      "source": [
        "<a href=\"https://colab.research.google.com/github/LVA0412/myDnD/blob/main/Work2_3.ipynb\" target=\"_parent\"><img src=\"https://colab.research.google.com/assets/colab-badge.svg\" alt=\"Open In Colab\"/></a>"
      ]
    },
    {
      "cell_type": "markdown",
      "source": [
        "**Программирование на Python. Задания 3-4.** *Выполнил Лямкин В.А.*"
      ],
      "metadata": {
        "id": "QsXhMU_8KPIs"
      }
    },
    {
      "cell_type": "markdown",
      "source": [
        "Класс Функтор\n",
        "Необходимо получить инструмент, который позволят задавать функцию вида z=ax/by+с. Разработайте класс Functor, инициализатор (конструктор) которого принимает параметры функции (a, b, c - натуральные числа). Реализуйте следующий функционал (где f объект класса Functor):\n",
        "f.calc(x, y) - вычисляет значение функции;\n",
        "f.history() - возвращает историю вычислений для данного объекта в виде кортежа кортежей;\n",
        "max(f) - возвращает максимальное значение функции из всех сделанных вычислений для объекта или 'None';\n",
        "str(f) - возвращает строковое представление функтора в виде z = (a * x) / (b * y) + c;\n",
        "tuple(f) - возвращает историю вычислений для данного объекта в виде кортежа кортежей."
      ],
      "metadata": {
        "id": "jJ0WaDtEKq_s"
      }
    },
    {
      "cell_type": "code",
      "source": [
        "class Functor:\n",
        "    def __init__(self, a, b, c):\n",
        "        self.a = a\n",
        "        self.b = b\n",
        "        self.c = c\n",
        "        self.hist = []\n",
        "        self._max = None\n",
        "    def calc(self, x, y):\n",
        "        if y == 0:\n",
        "            res = None\n",
        "            self.hist += [(x, y, res)]\n",
        "            return res\n",
        "        else:\n",
        "            res = (self.a*x) / (self.b*y) + self.c\n",
        "            if self._max == None: self._max = res \n",
        "            if res > self._max:\n",
        "                  self._max = res\n",
        "            self.hist += [(x, y, res)]\n",
        "            return res\n",
        "    def history(self):\n",
        "        return tuple(self.hist)\n",
        "    def __call__(self, x, y):\n",
        "        return self.calc(x,y)\n",
        "    def __str__(self):\n",
        "        return f'z = {self.a}*x + {self.b}*y + {self.c}'\n",
        "    def new_max(self):\n",
        "        return self._max\n",
        "        #(sorted(self.hist, key=lambda x:x[2]))[-1][2]\n",
        "\n",
        "class decorator:\n",
        "    def __init__(self, func):\n",
        "        self.func = func\n",
        "    def __call__(self, a):\n",
        "        return self.func(a)\n",
        "@decorator\n",
        "def max(a):\n",
        "    return a.new_max()\n",
        "\n",
        "f1 = Functor(4,8,3)\n",
        "print(f1.calc(1,1))\n",
        "print(f1.calc(1,0))\n",
        "print(f1.calc(10,1))\n",
        "print(f1.history())\n",
        "print(str(f1))\n",
        "f1(9,5)\n",
        "f1(100,0.5)\n",
        "print(f1.history())\n",
        "print(f1.new_max())\n",
        "print(max(f1))\n"
      ],
      "metadata": {
        "colab": {
          "base_uri": "https://localhost:8080/"
        },
        "id": "qdMH4PxkyeIB",
        "outputId": "6710980b-0475-4d51-aebf-eb15fc3ad664"
      },
      "execution_count": null,
      "outputs": [
        {
          "output_type": "stream",
          "name": "stdout",
          "text": [
            "3.5\n",
            "None\n",
            "8.0\n",
            "((1, 1, 3.5), (1, 0, None), (10, 1, 8.0))\n",
            "z = 4*x + 8*y + 3\n",
            "((1, 1, 3.5), (1, 0, None), (10, 1, 8.0), (9, 5, 3.9), (100, 0.5, 103.0))\n",
            "103.0\n",
            "103.0\n"
          ]
        }
      ]
    },
    {
      "cell_type": "markdown",
      "source": [
        "Класс Вектор\n",
        "Разработайте класс для манипуляций с векторами в трехмерном пространстве. Предусмотреть реализацию математического аппарата для векторов: \n",
        "сумма, разность, скалярное произведение, векторное произведение, длина вектора, проверка на коллинеарность и компланарность. \n",
        "Перегрузить базовую функцию str().\n",
        "Если v – это объект Вашего класса, то v.history() и tuple(v) – должны возвращать историю вычислений для данного объекта в виде кортежа кортежей; str(v) – строковое представление вектора, v.info() – выдавать полную информацию о векторе."
      ],
      "metadata": {
        "id": "TO3B4b2-KMpP"
      }
    },
    {
      "cell_type": "code",
      "source": [
        "class Vector:\n",
        "\n",
        "    def __init__(self, x, y, z):\n",
        "        self.hist = []\n",
        "        self.x = float(x)\n",
        "        self.y = float(y)\n",
        "        self.z = float(z)\n",
        "\n",
        "    def __str__(self):\n",
        "        return f'({self.x}, {self.y}, {self.z})'\n",
        "\n",
        "    def lenV(self):  \n",
        "        # длина вектора. код для history \"len\"\n",
        "        res = (self.x ** 2 + self.y ** 2 + self.z ** 2) ** 0.5\n",
        "        self.hist += [(\"len\", (self.x , self.y, self.z), res)]\n",
        "        return res\n",
        "\n",
        "    def __xor__(self, other):\n",
        "        # векторное произведение. код для history \"vp\"\n",
        "        xv = self.y * other.z - self.z * other.y\n",
        "        yv = self.z * other.x - self.x * other.z\n",
        "        zv = self.x * other.y - self.y * other.x\n",
        "        self.hist += [(\n",
        "                        \"vp\", (self.x , self.y, self.z), \n",
        "                        (other.x , other.y, other.z),\n",
        "                        (xv, yv, zv)\n",
        "                     )]\n",
        "        other.hist += [(\n",
        "                        \"vp\", (self.x , self.y, self.z), \n",
        "                        (other.x , other.y, other.z),\n",
        "                        (xv, yv, zv)\n",
        "                     )]\n",
        "        return Vector(xv, yv, zv)\n",
        "\n",
        "    def __mul__(self, other):\n",
        "        # скалярное произведение. код для history \"sp\"\n",
        "        sp = self.x * other.x + self.y * other.y + self.z * other.z\n",
        "        self.hist += [(\n",
        "                        \"sp\", (self.x , self.y, self.z), \n",
        "                         (other.x , other.y, other.z), sp\n",
        "                     )]\n",
        "        other.hist += [(\n",
        "                        \"sp\", (self.x , self.y, self.z), \n",
        "                         (other.x , other.y, other.z), sp\n",
        "                     )]\n",
        "        return sp\n",
        "\n",
        "    def __add__(self, other):\n",
        "        # сумма векторов. код для history \"sv\"\n",
        "        sx = self.x + other.x\n",
        "        sy = self.y + other.y\n",
        "        sz = self.z + other.z\n",
        "        self.hist += [(\n",
        "                        \"sv\", (self.x , self.y, self.z), \n",
        "                         (other.x , other.y, other.z), \n",
        "                         (sx, sy, sz)\n",
        "                     )]\n",
        "        other.hist += [(\n",
        "                        \"sv\", (self.x , self.y, self.z), \n",
        "                         (other.x , other.y, other.z), \n",
        "                         (sx, sy, sz)\n",
        "                     )]\n",
        "        return Vector(sx, sy, sz)\n",
        "\n",
        "    def __sub__(self, other):\n",
        "        # разность векторов. код для history \"rv\"\n",
        "        rx = self.x - other.x\n",
        "        ry = self.y - other.y\n",
        "        rz = self.z - other.z\n",
        "        self.hist += [(\n",
        "                        \"rv\", (self.x , self.y, self.z), \n",
        "                         (other.x , other.y, other.z), \n",
        "                         (rx, ry, rz)\n",
        "                     )]\n",
        "        other.hist += [(\n",
        "                        \"rv\", (self.x , self.y, self.z), \n",
        "                         (other.x , other.y, other.z), \n",
        "                         (rx, ry, rz)\n",
        "                     )]\n",
        "        return Vector(rx, ry, rz)\n",
        "\n",
        "    def isCollin(self, other):\n",
        "        # проверка коллинеарности векторов. код для history \"collin\"\n",
        "        v = (self ^ other)\n",
        "        if abs(v.x) + (v.y) + (v.z) == 0:\n",
        "            res = True\n",
        "        else:\n",
        "            res = False\n",
        "        \n",
        "        return res\n",
        "        \n",
        "    def isCompl(self, other1, other2):\n",
        "        # проверка компланарности векторов. код для history \"compl\"\n",
        "        v = (self ^ other1) * other2\n",
        "        if v == 0:\n",
        "            res = True\n",
        "        else:\n",
        "            res = False\n",
        "        return res\n",
        "    \n",
        "    def history(self):\n",
        "        return tuple(self.hist)\n",
        "\n",
        "v1 = Vector(2, 4, 0)\n",
        "v2 = Vector(5, 2, 4)\n",
        "v3 = Vector(4, 8, 1)\n",
        "print(v1)\n",
        "print(v2)\n",
        "print(\"Длина вектора: \", v2.lenV())\n",
        "# v2.y = 7\n",
        "print(\"Векторное произведение: \", v1 ^ v2)\n",
        "print(v1 * v2)\n",
        "print(v1 + v2)\n",
        "print(v1 - v2)\n",
        "print(v1.isCollin(v2))\n",
        "print(v1.isCompl(v2,v3))\n",
        "print(v1.history())\n",
        "print(v2.history())\n",
        "print(v3.history())"
      ],
      "metadata": {
        "colab": {
          "base_uri": "https://localhost:8080/"
        },
        "id": "g8EZqvbhuHq2",
        "outputId": "96caa70f-be8e-45e7-f5c6-5233a74b0db2"
      },
      "execution_count": null,
      "outputs": [
        {
          "output_type": "stream",
          "name": "stdout",
          "text": [
            "(2.0, 4.0, 0.0)\n",
            "(5.0, 2.0, 4.0)\n",
            "Длина вектора:  6.708203932499369\n",
            "Векторное произведение:  (16.0, -8.0, -16.0)\n",
            "18.0\n",
            "(7.0, 6.0, 4.0)\n",
            "(-3.0, 2.0, -4.0)\n",
            "False\n",
            "False\n",
            "(('vp', (2.0, 4.0, 0.0), (5.0, 2.0, 4.0), (16.0, -8.0, -16.0)), ('sp', (2.0, 4.0, 0.0), (5.0, 2.0, 4.0), 18.0), ('sv', (2.0, 4.0, 0.0), (5.0, 2.0, 4.0), (7.0, 6.0, 4.0)), ('rv', (2.0, 4.0, 0.0), (5.0, 2.0, 4.0), (-3.0, 2.0, -4.0)), ('vp', (2.0, 4.0, 0.0), (5.0, 2.0, 4.0), (16.0, -8.0, -16.0)), ('vp', (2.0, 4.0, 0.0), (5.0, 2.0, 4.0), (16.0, -8.0, -16.0)))\n"
          ]
        }
      ]
    },
    {
      "cell_type": "markdown",
      "source": [
        "Создадим класс персонаж игры Dungeon & Dragons"
      ],
      "metadata": {
        "id": "zWf8OzSCT-K9"
      }
    },
    {
      "cell_type": "code",
      "source": [
        "import enum\n",
        "\n",
        "class RaceH(enum.Enum):\n",
        "    Elf = 'Elf'\n",
        "    Human = 'Human'\n",
        "    Dwarf = 'Dwarf'\n",
        "\n",
        "class ClassH(enum.Enum):\n",
        "    Barbarian = 'Barbarian'\n",
        "    Warrior = 'Warrior'\n",
        "    Thief = 'Thief'\n",
        "\n",
        "class DnDHero:\n",
        "    def __init__(self, raceHero : RaceH, classHero : ClassH, age : int): \n",
        "        # обязательные параметры передаются в конструктор\n",
        "        # без них нельзя создать новый объект - персонажа\n",
        "        # раса персонажа не может измениться\n",
        "        self.__race__ = raceHero\n",
        "        self.experience = 0 #у нового персонажа опыт равен нулю\n",
        "        self.level = 1 #новый персонаж 1 уровня\n",
        "        self.classHero = classHero\n",
        "        self.age = age\n",
        "        # необязательные параметры вновь созданного персонажа.\n",
        "        # могут быть присвоены позже\n",
        "        self.nameH = \"\"\n",
        "        self.strength = None\n",
        "        self.agility = None\n",
        "\n",
        "    def FullInfo(self):\n",
        "        print(\"Раса\", self.__race__.value)\n",
        "        print(\"Класс\", self.classHero.value)\n",
        "        print(\"Уровень\", self.level)\n",
        "        print(\"Опыт\", self.experience)\n",
        "\n",
        "        print(\"Возраст\", self.age)\n",
        "    \n",
        "\n",
        "Oscar = DnDHero(RaceH.Elf,ClassH.Warrior,49)\n",
        "Oscar.FullInfo()"
      ],
      "metadata": {
        "id": "_gtsW33H6M_1",
        "colab": {
          "base_uri": "https://localhost:8080/"
        },
        "outputId": "bc66ee2f-a3cf-49c9-f06f-4ceff9b6c12a"
      },
      "execution_count": null,
      "outputs": [
        {
          "output_type": "stream",
          "name": "stdout",
          "text": [
            "Раса Elf\n",
            "Класс Warrior\n",
            "Уровень 1\n",
            "Опыт 0\n",
            "Возраст 49\n"
          ]
        }
      ]
    }
  ]
}